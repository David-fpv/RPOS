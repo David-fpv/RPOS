{
 "cells": [
  {
   "cell_type": "markdown",
   "metadata": {
    "id": "sCyef8RhzeJL"
   },
   "source": [
    "### Задание 3.1"
   ]
  },
  {
   "cell_type": "code",
   "execution_count": null,
   "metadata": {
    "colab": {
     "base_uri": "https://localhost:8080/"
    },
    "executionInfo": {
     "elapsed": 199,
     "status": "ok",
     "timestamp": 1737969421424,
     "user": {
      "displayName": "Давид Тарасенко",
      "userId": "17240939322221793504"
     },
     "user_tz": -180
    },
    "id": "crToORUj8w9p",
    "outputId": "aecc8125-3150-433e-f65b-99da4f55353d"
   },
   "outputs": [
    {
     "name": "stdout",
     "output_type": "stream",
     "text": [
      "ip nat inside source list ACL interface GigabitEthernet0/1 overload\n"
     ]
    }
   ],
   "source": [
    "NAT = \"ip nat inside source list ACL interface FastEthernet0/1 overload\"\n",
    "NAT = NAT.replace(\"FastEthernet\", \"GigabitEthernet\")\n",
    "print(NAT)"
   ]
  },
  {
   "cell_type": "markdown",
   "metadata": {
    "id": "fYqGr3Q2w0Sh"
   },
   "source": [
    "### Задание 3.2"
   ]
  },
  {
   "cell_type": "code",
   "execution_count": null,
   "metadata": {
    "colab": {
     "base_uri": "https://localhost:8080/"
    },
    "executionInfo": {
     "elapsed": 201,
     "status": "ok",
     "timestamp": 1737969482950,
     "user": {
      "displayName": "Давид Тарасенко",
      "userId": "17240939322221793504"
     },
     "user_tz": -180
    },
    "id": "hbAb_RgZDNxA",
    "outputId": "a3ecee8a-a327-47b4-e2a0-ff8367cb02a4"
   },
   "outputs": [
    {
     "name": "stdout",
     "output_type": "stream",
     "text": [
      "AAAA.BBBB.CCC\n"
     ]
    }
   ],
   "source": [
    "MAC = \"AAAA:BBBB:CCCС\"\n",
    "MAC = MAC.replace(\":\", \".\")\n",
    "print(MAC)"
   ]
  },
  {
   "cell_type": "markdown",
   "metadata": {
    "id": "LSvuCMuGw257"
   },
   "source": [
    "### Задание 3.3"
   ]
  },
  {
   "cell_type": "code",
   "execution_count": 4,
   "metadata": {
    "colab": {
     "base_uri": "https://localhost:8080/"
    },
    "executionInfo": {
     "elapsed": 202,
     "status": "ok",
     "timestamp": 1737970732474,
     "user": {
      "displayName": "Давид Тарасенко",
      "userId": "17240939322221793504"
     },
     "user_tz": -180
    },
    "id": "ssk1OnkcDklY",
    "outputId": "67057de6-97e5-457d-9ad2-2f5a945427d4"
   },
   "outputs": [
    {
     "name": "stdout",
     "output_type": "stream",
     "text": [
      "['1', '3', '10', '20', '30', '100']\n"
     ]
    }
   ],
   "source": [
    "CONFIG = \"switchport trunk allowed vlan 1,3,10,20,30,100\"\n",
    "words = CONFIG.split(' ')\n",
    "vlans = words[-1].split(',')\n",
    "\n",
    "answer = []\n",
    "for vlan in vlans:\n",
    "  answer.append(vlan)\n",
    "\n",
    "print(answer)"
   ]
  },
  {
   "cell_type": "markdown",
   "metadata": {
    "id": "tv9YpRMsw5O7"
   },
   "source": [
    "### Задание 3.4"
   ]
  },
  {
   "cell_type": "code",
   "execution_count": 5,
   "metadata": {
    "colab": {
     "base_uri": "https://localhost:8080/"
    },
    "executionInfo": {
     "elapsed": 196,
     "status": "ok",
     "timestamp": 1737970674989,
     "user": {
      "displayName": "Давид Тарасенко",
      "userId": "17240939322221793504"
     },
     "user_tz": -180
    },
    "id": "X0ZkaJMSFnqQ",
    "outputId": "21f1590a-c503-446b-b0b8-3fe4914b542f"
   },
   "outputs": [
    {
     "name": "stdout",
     "output_type": "stream",
     "text": [
      "[1, 3, 100]\n"
     ]
    }
   ],
   "source": [
    "command1 = \"switchport trunk allowed vlan 1,3,10,20,30,100\"\n",
    "command2 = \"switchport trunk allowed vlan 1,3,100,200,300\"\n",
    "\n",
    "def get_vlans(str):\n",
    "  words = str.split(' ')\n",
    "  vlans = words[-1].split(',')\n",
    "  return vlans\n",
    "\n",
    "vlans_1 = get_vlans(command1)\n",
    "vlans_2 = get_vlans(command2)\n",
    "\n",
    "answer = []\n",
    "for vlan in vlans_1:\n",
    "  if (vlan in vlans_2):\n",
    "    answer.append(int(vlan))\n",
    "\n",
    "print(answer)"
   ]
  },
  {
   "cell_type": "markdown",
   "metadata": {
    "id": "nih7S0n6w-aF"
   },
   "source": [
    "### Задание 3.5"
   ]
  },
  {
   "cell_type": "code",
   "execution_count": 6,
   "metadata": {
    "colab": {
     "base_uri": "https://localhost:8080/"
    },
    "executionInfo": {
     "elapsed": 183,
     "status": "ok",
     "timestamp": 1737971227711,
     "user": {
      "displayName": "Давид Тарасенко",
      "userId": "17240939322221793504"
     },
     "user_tz": -180
    },
    "id": "DYzmCb5ZG2h4",
    "outputId": "ee63c96b-601f-4951-babc-ccf3d2317afb"
   },
   "outputs": [
    {
     "name": "stdout",
     "output_type": "stream",
     "text": [
      "[1, 2, 3, 4, 10, 20, 30, 100]\n"
     ]
    }
   ],
   "source": [
    "VLANS = [10, 20, 30, 1, 2, 100, 10, 30, 3, 4, 10]\n",
    "\n",
    "answer = sorted(set(VLANS))\n",
    "print(answer)"
   ]
  },
  {
   "cell_type": "markdown",
   "metadata": {
    "id": "eFeA9fxgxBM9"
   },
   "source": [
    "### Задание 3.6"
   ]
  },
  {
   "cell_type": "code",
   "execution_count": null,
   "metadata": {
    "colab": {
     "base_uri": "https://localhost:8080/"
    },
    "executionInfo": {
     "elapsed": 270,
     "status": "ok",
     "timestamp": 1737974382813,
     "user": {
      "displayName": "Давид Тарасенко",
      "userId": "17240939322221793504"
     },
     "user_tz": -180
    },
    "id": "nudGVPWlKK2I",
    "outputId": "b83e089e-3581-4b02-b038-6858ae7999bc"
   },
   "outputs": [
    {
     "name": "stdout",
     "output_type": "stream",
     "text": [
      "Protocol:            OSPF        \n",
      "Prefix:              10.0.24.0/24\n",
      "AD/Metric:           [110/41]    \n",
      "Next-Hop:            10.0.13.3   \n",
      "Last update:         3d18h       \n",
      "Outbound Interface:  FastThernet0/0\n"
     ]
    }
   ],
   "source": [
    "ospf_route = 'o    10.0.24.0/24 [110/41] via 10.0.13.3, 3d18h, FastThernet0/0'\n",
    "column_names = [\"Protocol\", \"Prefix\", \"AD/Metric\", \"Next-Hop\", \"Last update\", \"Outbound Interface\"]\n",
    "\n",
    "ospf_route = ospf_route.replace(',', '')\n",
    "ospf_route = ospf_route.replace('via', '')\n",
    "words = ospf_route.split()\n",
    "words[0] = 'OSPF'\n",
    "\n",
    "answer = dict(zip(column_names, words))\n",
    "\n",
    "for key, value in answer.items():\n",
    "    print(\"%-20s %-12s\" % (key + \":\", value))"
   ]
  },
  {
   "cell_type": "markdown",
   "metadata": {
    "id": "o6YN2HhMxFWB"
   },
   "source": [
    "### Задание 3.7"
   ]
  },
  {
   "cell_type": "code",
   "execution_count": null,
   "metadata": {
    "colab": {
     "base_uri": "https://localhost:8080/"
    },
    "executionInfo": {
     "elapsed": 204,
     "status": "ok",
     "timestamp": 1737976472868,
     "user": {
      "displayName": "Давид Тарасенко",
      "userId": "17240939322221793504"
     },
     "user_tz": -180
    },
    "id": "ylItBfc8U9yS",
    "outputId": "0b2ba53e-f784-40e4-ee41-8b689fd05f2b"
   },
   "outputs": [
    {
     "name": "stdout",
     "output_type": "stream",
     "text": [
      " 1010101010101010  1011101110111011  1100110011001100 "
     ]
    }
   ],
   "source": [
    "MAC = \"AAAA:BBBB:CCCC\".lower()\n",
    "octets = MAC.split(\":\")\n",
    "\n",
    "for octet in octets:\n",
    "  print(bin(int(octet, 16)).replace(\"0b\", ' '), end=' ')\n"
   ]
  },
  {
   "cell_type": "markdown",
   "metadata": {
    "id": "fAB0i-XNwkVU"
   },
   "source": [
    "### Задание 3.8"
   ]
  },
  {
   "cell_type": "code",
   "execution_count": null,
   "metadata": {
    "colab": {
     "base_uri": "https://localhost:8080/"
    },
    "executionInfo": {
     "elapsed": 272,
     "status": "ok",
     "timestamp": 1738142691183,
     "user": {
      "displayName": "Давид Тарасенко",
      "userId": "17240939322221793504"
     },
     "user_tz": -180
    },
    "id": "FogD6xk3a3-L",
    "outputId": "a895b975-766f-4acc-b534-51fc440735a7"
   },
   "outputs": [
    {
     "name": "stdout",
     "output_type": "stream",
     "text": [
      "192        168        3          1          \n",
      "11000000   10101000   11         1          "
     ]
    }
   ],
   "source": [
    "IP = \"192.168.3.1\"\n",
    "octets = IP.split('.')\n",
    "\n",
    "for octet in octets:\n",
    "  print(\"%-10s\" % (int(octet)), end=' ')\n",
    "\n",
    "print()\n",
    "for octet in octets:\n",
    "  print(\"%-10s\" % bin(int(octet)).replace(\"0b\", ''), end=' ')"
   ]
  },
  {
   "cell_type": "markdown",
   "metadata": {
    "id": "9RBgJGxhxHdf"
   },
   "source": [
    "### Задание 3.9"
   ]
  },
  {
   "cell_type": "code",
   "execution_count": null,
   "metadata": {
    "colab": {
     "base_uri": "https://localhost:8080/"
    },
    "executionInfo": {
     "elapsed": 214,
     "status": "ok",
     "timestamp": 1738047394449,
     "user": {
      "displayName": "Давид Тарасенко",
      "userId": "17240939322221793504"
     },
     "user_tz": -180
    },
    "id": "8URnuDIOjBy1",
    "outputId": "f9938aa6-da48-4bd0-d646-22901654db2d"
   },
   "outputs": [
    {
     "name": "stdout",
     "output_type": "stream",
     "text": [
      "5\n"
     ]
    }
   ],
   "source": [
    "num_list = [10, 2, 30, 100, 10, 50, 11, 30, 15, 7]\n",
    "word_list = [\"python\", 'ruby', 'perl', 'ruby', 'perl', 'python', 'ruby', 'perl']\n",
    "\n",
    "def find_last(list, value):\n",
    "  for i in reversed(range(len(list))):\n",
    "    if list[i] == value:\n",
    "      return i\n",
    "\n",
    "print(find_last(word_list, 'python'))"
   ]
  }
 ],
 "metadata": {
  "colab": {
   "authorship_tag": "ABX9TyOQM8z0Q6fmn4/VcY421nVJ",
   "provenance": []
  },
  "kernelspec": {
   "display_name": "Python 3",
   "name": "python3"
  },
  "language_info": {
   "codemirror_mode": {
    "name": "ipython",
    "version": 3
   },
   "file_extension": ".py",
   "mimetype": "text/x-python",
   "name": "python",
   "nbconvert_exporter": "python",
   "pygments_lexer": "ipython3",
   "version": "3.13.2"
  }
 },
 "nbformat": 4,
 "nbformat_minor": 0
}
